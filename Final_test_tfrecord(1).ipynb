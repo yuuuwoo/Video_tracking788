{
  "nbformat": 4,
  "nbformat_minor": 0,
  "metadata": {
    "colab": {
      "name": "Final_test_tfrecord(1).ipynb",
      "provenance": [],
      "include_colab_link": true
    },
    "kernelspec": {
      "name": "python3",
      "display_name": "Python 3"
    },
    "language_info": {
      "name": "python"
    }
  },
  "cells": [
    {
      "cell_type": "markdown",
      "metadata": {
        "id": "view-in-github",
        "colab_type": "text"
      },
      "source": [
        "<a href=\"https://colab.research.google.com/github/yuuuwoo/Video_tracking788/blob/main/Final_test_tfrecord(1).ipynb\" target=\"_parent\"><img src=\"https://colab.research.google.com/assets/colab-badge.svg\" alt=\"Open In Colab\"/></a>"
      ]
    },
    {
      "cell_type": "markdown",
      "source": [
        "##Mount drive"
      ],
      "metadata": {
        "id": "NVkaJ65BHiFI"
      }
    },
    {
      "cell_type": "code",
      "source": [
        "from google.colab import drive\n",
        "drive.mount('/content/mydrive')"
      ],
      "metadata": {
        "colab": {
          "base_uri": "https://localhost:8080/"
        },
        "id": "oJ5U9WznHw6o",
        "outputId": "59c58656-f549-43c6-fa39-f91e33c25369"
      },
      "execution_count": null,
      "outputs": [
        {
          "output_type": "stream",
          "name": "stdout",
          "text": [
            "Drive already mounted at /content/mydrive; to attempt to forcibly remount, call drive.mount(\"/content/mydrive\", force_remount=True).\n"
          ]
        }
      ]
    },
    {
      "cell_type": "code",
      "source": [
        "# read costumized file path\n",
        "%cd mydrive/MyDrive/Colab_Notebooks/SEP788GP3/SiameseFC-tf\n",
        "!ls"
      ],
      "metadata": {
        "id": "KV7y1irTKckP",
        "colab": {
          "base_uri": "https://localhost:8080/"
        },
        "outputId": "7e1de6e9-d466-4271-ba8e-d8a7569d5d79"
      },
      "execution_count": null,
      "outputs": [
        {
          "output_type": "stream",
          "name": "stdout",
          "text": [
            "/content/mydrive/MyDrive/Colab_Notebooks/SEP788GP3/SiameseFC-tf\n",
            "BlurCar1\t\t\t README.md\n",
            "get_shuffled_list_from_vedio.py  requirements.txt\n",
            "output\t\t\t\t run_tracker_evaluation.py\n",
            "parameters\t\t\t run_tracker_training.py\n",
            "prepare_training_dataset.py\t src\n"
          ]
        }
      ]
    },
    {
      "cell_type": "markdown",
      "source": [
        "#Import"
      ],
      "metadata": {
        "id": "P94SgOzs1UgT"
      }
    },
    {
      "cell_type": "code",
      "source": [
        "import numpy as np\n",
        "import pandas as pd\n",
        "import os\n",
        "import cv2\n",
        "from google.colab.patches import cv2_imshow\n",
        "import matplotlib.pyplot as plt\n",
        "%matplotlib inline\n",
        "import glob\n",
        "from random import shuffle\n",
        "\n",
        "import tensorflow as tf\n",
        "from tensorflow import keras\n",
        "from tensorflow.keras import layers\n"
      ],
      "metadata": {
        "id": "3RgWctJh1YMx"
      },
      "execution_count": null,
      "outputs": []
    },
    {
      "cell_type": "markdown",
      "source": [
        "#Data processing\n"
      ],
      "metadata": {
        "id": "7TrsRYoUlq9c"
      }
    },
    {
      "cell_type": "markdown",
      "source": [
        "For gif or mp4 files, usually slice each frame into image sequence\\\n",
        "For our dataset, it is already sliced into multiple frame images and one txt label. \\\n",
        "So that we can save a step to slice the video frame"
      ],
      "metadata": {
        "id": "taKct-XUnZKv"
      }
    },
    {
      "cell_type": "code",
      "source": [
        "cur_dir = os.getcwd()\n",
        "object_floder = os.path.join(cur_dir, 'BlurCar1')#choose object\n",
        "print(object_floder)"
      ],
      "metadata": {
        "colab": {
          "base_uri": "https://localhost:8080/"
        },
        "id": "E_XFufI4vZW1",
        "outputId": "f825a481-cbbe-4937-b003-80be06f4c9b4"
      },
      "execution_count": null,
      "outputs": [
        {
          "output_type": "stream",
          "name": "stdout",
          "text": [
            "/content/mydrive/MyDrive/Colab_Notebooks/SEP788GP3/SiameseFC-tf/BlurCar1\n"
          ]
        }
      ]
    },
    {
      "cell_type": "code",
      "source": [
        ""
      ],
      "metadata": {
        "id": "sOFkfRXRno17"
      },
      "execution_count": null,
      "outputs": []
    },
    {
      "cell_type": "markdown",
      "source": [
        "##Read data "
      ],
      "metadata": {
        "id": "Qs-E9GxN9SB0"
      }
    },
    {
      "cell_type": "code",
      "source": [
        "def load_images_from_folder(image_folder):\n",
        "  images = []\n",
        "  images_filename = []\n",
        "  lst = os.listdir(image_folder)\n",
        "  lst.sort()\n",
        "\n",
        "  for file in lst:\n",
        "        img = cv2.imread(os.path.join(image_folder,file))#height, width, channel\n",
        "        if img is not None:\n",
        "            images.append(img)\n",
        "            images_filename.append(file)\n",
        "            h, w , c = img.shape\n",
        "            \n",
        "        \n",
        "  return images, images_filename, h, w, c"
      ],
      "metadata": {
        "id": "v-PSADXqziw1"
      },
      "execution_count": null,
      "outputs": []
    },
    {
      "cell_type": "code",
      "source": [
        "from pandas._libs import index\n",
        "#blur car number#\n",
        "label_folder = os.path.join(object_floder, 'groundtruth_rect.txt')\n",
        "image_folder = os.path.join(object_floder,'img')\n",
        "\n",
        "#Read from groundtruth.txt\n",
        "head = ['x', 'y', 'box_width', 'box_height']\n",
        "labeldata = pd.read_csv(label_folder, sep= '\\s+', names = head)\n",
        "labeldata['x_center']= np.nan\n",
        "labeldata['y_center']= np.nan\n",
        "\n",
        "#Read image \n",
        "images, images_filename, h , w, c = load_images_from_folder(image_folder)\n",
        "imagedata = pd.DataFrame(list(zip(images_filename,images)), columns=['filename', 'imread'])\n",
        "\n",
        "#caculate x_center and y_center, normalize with image size\n",
        "\n",
        "x_center = []\n",
        "y_center = []\n",
        "for i in range(len(imagedata)):\n",
        "  x = labeldata.iloc[i,0]\n",
        "  y = labeldata.iloc[i,1]\n",
        "  width = labeldata.iloc[i,2]\n",
        "  height = labeldata.iloc[i,3]\n",
        "  x_cen = (x + width)/2\n",
        "  y_cen = (y + height)/2\n",
        "  #write normalized \n",
        "  labeldata.iloc[i,4] = x_cen/w\n",
        "  labeldata.iloc[i,5] = y_cen/h\n",
        "  labeldata.iloc[i,2] = width/w\n",
        "  labeldata.iloc[i,3] = height/h\n",
        "\n",
        "#save to dataframe\n",
        "df = labeldata.join(imagedata)\n",
        "df = df[['x_center', 'y_center','box_width','box_height', 'filename','imread']]\n",
        "df.head()\n"
      ],
      "metadata": {
        "id": "LvfgrrBX9VK5",
        "colab": {
          "base_uri": "https://localhost:8080/",
          "height": 206
        },
        "outputId": "6a38701b-e601-4523-df01-8308a72092fd"
      },
      "execution_count": null,
      "outputs": [
        {
          "output_type": "execute_result",
          "data": {
            "text/plain": [
              "   x_center  y_center  box_width  box_height  filename  \\\n",
              "0  0.278125  0.284375   0.165625    0.218750  0247.jpg   \n",
              "1  0.277344  0.287500   0.165625    0.220833  0248.jpg   \n",
              "2  0.271875  0.296875   0.168750    0.220833  0249.jpg   \n",
              "3  0.257812  0.314583   0.167187    0.231250  0250.jpg   \n",
              "4  0.256250  0.327083   0.181250    0.218750  0251.jpg   \n",
              "\n",
              "                                              imread  \n",
              "0  [[[255, 235, 183], [255, 235, 183], [255, 239,...  \n",
              "1  [[[255, 236, 181], [255, 237, 182], [255, 238,...  \n",
              "2  [[[255, 232, 176], [255, 232, 176], [254, 234,...  \n",
              "3  [[[255, 238, 181], [255, 238, 181], [255, 239,...  \n",
              "4  [[[255, 235, 180], [255, 234, 179], [255, 235,...  "
            ],
            "text/html": [
              "\n",
              "  <div id=\"df-bdbb0742-9b47-4e05-b78b-0c398b7c7d8e\">\n",
              "    <div class=\"colab-df-container\">\n",
              "      <div>\n",
              "<style scoped>\n",
              "    .dataframe tbody tr th:only-of-type {\n",
              "        vertical-align: middle;\n",
              "    }\n",
              "\n",
              "    .dataframe tbody tr th {\n",
              "        vertical-align: top;\n",
              "    }\n",
              "\n",
              "    .dataframe thead th {\n",
              "        text-align: right;\n",
              "    }\n",
              "</style>\n",
              "<table border=\"1\" class=\"dataframe\">\n",
              "  <thead>\n",
              "    <tr style=\"text-align: right;\">\n",
              "      <th></th>\n",
              "      <th>x_center</th>\n",
              "      <th>y_center</th>\n",
              "      <th>box_width</th>\n",
              "      <th>box_height</th>\n",
              "      <th>filename</th>\n",
              "      <th>imread</th>\n",
              "    </tr>\n",
              "  </thead>\n",
              "  <tbody>\n",
              "    <tr>\n",
              "      <th>0</th>\n",
              "      <td>0.278125</td>\n",
              "      <td>0.284375</td>\n",
              "      <td>0.165625</td>\n",
              "      <td>0.218750</td>\n",
              "      <td>0247.jpg</td>\n",
              "      <td>[[[255, 235, 183], [255, 235, 183], [255, 239,...</td>\n",
              "    </tr>\n",
              "    <tr>\n",
              "      <th>1</th>\n",
              "      <td>0.277344</td>\n",
              "      <td>0.287500</td>\n",
              "      <td>0.165625</td>\n",
              "      <td>0.220833</td>\n",
              "      <td>0248.jpg</td>\n",
              "      <td>[[[255, 236, 181], [255, 237, 182], [255, 238,...</td>\n",
              "    </tr>\n",
              "    <tr>\n",
              "      <th>2</th>\n",
              "      <td>0.271875</td>\n",
              "      <td>0.296875</td>\n",
              "      <td>0.168750</td>\n",
              "      <td>0.220833</td>\n",
              "      <td>0249.jpg</td>\n",
              "      <td>[[[255, 232, 176], [255, 232, 176], [254, 234,...</td>\n",
              "    </tr>\n",
              "    <tr>\n",
              "      <th>3</th>\n",
              "      <td>0.257812</td>\n",
              "      <td>0.314583</td>\n",
              "      <td>0.167187</td>\n",
              "      <td>0.231250</td>\n",
              "      <td>0250.jpg</td>\n",
              "      <td>[[[255, 238, 181], [255, 238, 181], [255, 239,...</td>\n",
              "    </tr>\n",
              "    <tr>\n",
              "      <th>4</th>\n",
              "      <td>0.256250</td>\n",
              "      <td>0.327083</td>\n",
              "      <td>0.181250</td>\n",
              "      <td>0.218750</td>\n",
              "      <td>0251.jpg</td>\n",
              "      <td>[[[255, 235, 180], [255, 234, 179], [255, 235,...</td>\n",
              "    </tr>\n",
              "  </tbody>\n",
              "</table>\n",
              "</div>\n",
              "      <button class=\"colab-df-convert\" onclick=\"convertToInteractive('df-bdbb0742-9b47-4e05-b78b-0c398b7c7d8e')\"\n",
              "              title=\"Convert this dataframe to an interactive table.\"\n",
              "              style=\"display:none;\">\n",
              "        \n",
              "  <svg xmlns=\"http://www.w3.org/2000/svg\" height=\"24px\"viewBox=\"0 0 24 24\"\n",
              "       width=\"24px\">\n",
              "    <path d=\"M0 0h24v24H0V0z\" fill=\"none\"/>\n",
              "    <path d=\"M18.56 5.44l.94 2.06.94-2.06 2.06-.94-2.06-.94-.94-2.06-.94 2.06-2.06.94zm-11 1L8.5 8.5l.94-2.06 2.06-.94-2.06-.94L8.5 2.5l-.94 2.06-2.06.94zm10 10l.94 2.06.94-2.06 2.06-.94-2.06-.94-.94-2.06-.94 2.06-2.06.94z\"/><path d=\"M17.41 7.96l-1.37-1.37c-.4-.4-.92-.59-1.43-.59-.52 0-1.04.2-1.43.59L10.3 9.45l-7.72 7.72c-.78.78-.78 2.05 0 2.83L4 21.41c.39.39.9.59 1.41.59.51 0 1.02-.2 1.41-.59l7.78-7.78 2.81-2.81c.8-.78.8-2.07 0-2.86zM5.41 20L4 18.59l7.72-7.72 1.47 1.35L5.41 20z\"/>\n",
              "  </svg>\n",
              "      </button>\n",
              "      \n",
              "  <style>\n",
              "    .colab-df-container {\n",
              "      display:flex;\n",
              "      flex-wrap:wrap;\n",
              "      gap: 12px;\n",
              "    }\n",
              "\n",
              "    .colab-df-convert {\n",
              "      background-color: #E8F0FE;\n",
              "      border: none;\n",
              "      border-radius: 50%;\n",
              "      cursor: pointer;\n",
              "      display: none;\n",
              "      fill: #1967D2;\n",
              "      height: 32px;\n",
              "      padding: 0 0 0 0;\n",
              "      width: 32px;\n",
              "    }\n",
              "\n",
              "    .colab-df-convert:hover {\n",
              "      background-color: #E2EBFA;\n",
              "      box-shadow: 0px 1px 2px rgba(60, 64, 67, 0.3), 0px 1px 3px 1px rgba(60, 64, 67, 0.15);\n",
              "      fill: #174EA6;\n",
              "    }\n",
              "\n",
              "    [theme=dark] .colab-df-convert {\n",
              "      background-color: #3B4455;\n",
              "      fill: #D2E3FC;\n",
              "    }\n",
              "\n",
              "    [theme=dark] .colab-df-convert:hover {\n",
              "      background-color: #434B5C;\n",
              "      box-shadow: 0px 1px 3px 1px rgba(0, 0, 0, 0.15);\n",
              "      filter: drop-shadow(0px 1px 2px rgba(0, 0, 0, 0.3));\n",
              "      fill: #FFFFFF;\n",
              "    }\n",
              "  </style>\n",
              "\n",
              "      <script>\n",
              "        const buttonEl =\n",
              "          document.querySelector('#df-bdbb0742-9b47-4e05-b78b-0c398b7c7d8e button.colab-df-convert');\n",
              "        buttonEl.style.display =\n",
              "          google.colab.kernel.accessAllowed ? 'block' : 'none';\n",
              "\n",
              "        async function convertToInteractive(key) {\n",
              "          const element = document.querySelector('#df-bdbb0742-9b47-4e05-b78b-0c398b7c7d8e');\n",
              "          const dataTable =\n",
              "            await google.colab.kernel.invokeFunction('convertToInteractive',\n",
              "                                                     [key], {});\n",
              "          if (!dataTable) return;\n",
              "\n",
              "          const docLinkHtml = 'Like what you see? Visit the ' +\n",
              "            '<a target=\"_blank\" href=https://colab.research.google.com/notebooks/data_table.ipynb>data table notebook</a>'\n",
              "            + ' to learn more about interactive tables.';\n",
              "          element.innerHTML = '';\n",
              "          dataTable['output_type'] = 'display_data';\n",
              "          await google.colab.output.renderOutput(dataTable, element);\n",
              "          const docLink = document.createElement('div');\n",
              "          docLink.innerHTML = docLinkHtml;\n",
              "          element.appendChild(docLink);\n",
              "        }\n",
              "      </script>\n",
              "    </div>\n",
              "  </div>\n",
              "  "
            ]
          },
          "metadata": {},
          "execution_count": 6
        }
      ]
    },
    {
      "cell_type": "markdown",
      "source": [
        "##Prepare for simese by use tf.record\n",
        "label format:\\\n",
        "z for examplar image, x for search image\\\n",
        "z_pos_x is x_center\\\n",
        "z_pos_y is x_center\\\n",
        "z_target_w is box width\\\n",
        "z_target_h is box height\\\n",
        "\\\n",
        "x_pos_x is ...\n"
      ],
      "metadata": {
        "id": "LHPLYZs5AJ3G"
      }
    },
    {
      "cell_type": "code",
      "source": [
        "#generate shuffle examplar list and search list to txt\n",
        "\n",
        "\n",
        "def prepare_shuffled_list(df, output_directory, output_filename):\n",
        "  if not os.path.exists(output_directory) or os.path.isfile(output_directory):\n",
        "    os.makedirs(output_directory)\n",
        "\n",
        "  output_list = []\n",
        "  row_id = df.index.tolist()\n",
        "  for i in range(len(row_id) - 1):\n",
        "    z_path = os.path.join(image_folder, df.iloc[i].filename)\n",
        "    x_path = os.path.join(image_folder, df.iloc[i+1].filename)\n",
        "    z_pos_x = df.iloc[i].x_center\n",
        "    z_pos_y = df.iloc[i].y_center\n",
        "    z_target_w = df.iloc[i].box_width\n",
        "    z_target_h = df.iloc[i].box_height\n",
        "    x_pos_x = df.iloc[i+1].x_center\n",
        "    x_pos_y = df.iloc[i+1].y_center\n",
        "    x_target_w = df.iloc[i+1].box_width\n",
        "    x_target_h = df.iloc[i+1].box_height\n",
        "    output_list.append(z_path + \" \" + x_path + \" \" \n",
        "                       + str(z_pos_x)+ \" \"+ str(z_pos_y)+ \" \"+  str(z_target_w)+ \" \"+ str(z_target_h)+ \" \"\n",
        "                       +  str(x_pos_x)+ \" \"+ str(x_pos_y)+ \" \"+  str(x_target_w)+ \" \"+  str(x_target_h))\n",
        "\n",
        "  shuffle(output_list)\n",
        "  with open(os.path.join(output_directory,output_filename) + \".txt\",\"w+\") as f:\n",
        "        for output_file in output_list:\n",
        "            f.write(output_file + \"\\n\") \n",
        "  print(\"Done. tfrecords file saved at \" + output_directory)\n",
        "\n",
        "\n",
        "  "
      ],
      "metadata": {
        "id": "rKs9z5yjkNkq"
      },
      "execution_count": null,
      "outputs": []
    },
    {
      "cell_type": "code",
      "source": [
        "output_directory = os.path.join(object_floder, \"shuffled_data_list\")\n",
        "output_filename = \"shuffled_list\"\n",
        "\n",
        "prepare_shuffled_list(df, output_directory, output_filename)\n"
      ],
      "metadata": {
        "colab": {
          "base_uri": "https://localhost:8080/"
        },
        "id": "paniWhIFlNbV",
        "outputId": "06944817-0a52-4861-988d-aea4d00c5cdf"
      },
      "execution_count": null,
      "outputs": [
        {
          "output_type": "stream",
          "name": "stdout",
          "text": [
            "Done. tfrecords file saved at /content/mydrive/MyDrive/Colab_Notebooks/SEP788GP3/SiameseFC-tf/BlurCar1/shuffled_data_list\n"
          ]
        }
      ]
    },
    {
      "cell_type": "code",
      "source": [
        "#Write infomations to tf.record\n",
        "from src.parse_arguments import parse_arguments\n",
        "def transform2tfrecord(data_file, tfrecord_name, output_directory, resize_width, resize_height):\n",
        "    \"\"\"\n",
        "        Input:\n",
        "            data_folder: relative path of folder who contains all the vedio folders for training.\n",
        "            tfrecord_name: nameof the tfrecord file\n",
        "            output_directory: relative dir which will contain the tfrecord file\n",
        "    \"\"\"\n",
        "    if not os.path.exists(output_directory) or os.path.isfile(output_directory):\n",
        "        os.makedirs(output_directory)\n",
        "        \n",
        "    #init tfrecord file\n",
        "    filename = os.path.join(output_directory, tfrecord_name + '.tfrecords')\n",
        "    writer = tf.io.TFRecordWriter(filename)\n",
        "        \n",
        "    cur_dir = os.getcwd()\n",
        "    data_folder = os.path.join(cur_dir, data_file)\n",
        "    with open(data_folder, \"r\") as f:\n",
        "        print(\"Generating tfrecord from \" + data_folder)\n",
        "        data_list = f.readlines()\n",
        "        for data in data_list:\n",
        "            z, x, z_pos_x, z_pos_y, z_target_w, z_target_h, x_pos_x, x_pos_y, x_target_w, x_target_h = data.strip(\"\\n \").split(\" \")\n",
        "            z_pos_x = float(z_pos_x)\n",
        "            z_pos_y = float(z_pos_y)\n",
        "            z_target_w = float(z_target_w)\n",
        "            z_target_h = float(z_target_h)\n",
        "            x_pos_x = float(x_pos_x)\n",
        "            x_pos_y = float(x_pos_y)\n",
        "            x_target_w = float(x_target_w)\n",
        "            x_target_h = float(x_target_h)\n",
        "            z_img = cv2.imread(z)\n",
        "            z_img = cv2.resize(z_img, (resize_width,resize_height))\n",
        "            x_img = cv2.imread(x)\n",
        "            x_img = cv2.resize(x_img, (resize_width,resize_height))\n",
        "            z_raw = z_img.tostring()\n",
        "            x_raw = x_img.tostring()\n",
        "            \n",
        "\n",
        "            example = tf.train.Example(features=tf.train.Features(feature={\n",
        "                'z_raw': tf.train.Feature(bytes_list=tf.train.BytesList(value=[z_raw])),\n",
        "                'x_raw': tf.train.Feature(bytes_list=tf.train.BytesList(value=[x_raw])),\n",
        "                'z_pos_x': tf.train.Feature(float_list=tf.train.FloatList(value=[z_pos_x])),\n",
        "                'z_pos_y': tf.train.Feature(float_list=tf.train.FloatList(value=[z_pos_y])),\n",
        "                'z_target_w': tf.train.Feature(float_list=tf.train.FloatList(value=[z_target_w])),\n",
        "                'z_target_h': tf.train.Feature(float_list=tf.train.FloatList(value=[z_target_h])),\n",
        "                'x_pos_x': tf.train.Feature(float_list=tf.train.FloatList(value=[x_pos_x])),\n",
        "                'x_pos_y': tf.train.Feature(float_list=tf.train.FloatList(value=[x_pos_y])),\n",
        "                'x_target_w': tf.train.Feature(float_list=tf.train.FloatList(value=[x_target_w])),\n",
        "                'x_target_h': tf.train.Feature(float_list=tf.train.FloatList(value=[x_target_h]))\n",
        "                \n",
        "            }))\n",
        "            writer.write(example.SerializeToString())\n",
        "        \n",
        "        \n",
        " \n",
        "        \n",
        "    writer.close()\n",
        "    print(\"Writer closed.\")\n",
        "    print(tfrecord_name + '.tfrecords'+\" is written to \"+output_directory)\n",
        "\n"
      ],
      "metadata": {
        "id": "vwXm24SlBAzO"
      },
      "execution_count": null,
      "outputs": []
    },
    {
      "cell_type": "code",
      "source": [
        "hp, evaluation, run, env, design = parse_arguments()#Reads the parameters .json file \n",
        "\n",
        "transform2tfrecord(\"./BlurCar1/shuffled_data_list/shuffled_list.txt\", \"training_dataset\", \"./BlurCar1/tfrecords\", \n",
        "                  resize_width = design.resize_width, resize_height = design.resize_height)"
      ],
      "metadata": {
        "colab": {
          "base_uri": "https://localhost:8080/"
        },
        "id": "CospFImtRfbi",
        "outputId": "e4dfcc8d-9228-4fed-d2ad-9d43201256a5"
      },
      "execution_count": null,
      "outputs": [
        {
          "output_type": "stream",
          "name": "stdout",
          "text": [
            "Generating tfrecord from /content/mydrive/MyDrive/Colab_Notebooks/SEP788GP3/SiameseFC-tf/./BlurCar1/shuffled_data_list/shuffled_list.txt\n"
          ]
        },
        {
          "output_type": "stream",
          "name": "stderr",
          "text": [
            "/usr/local/lib/python3.7/dist-packages/ipykernel_launcher.py:35: DeprecationWarning: tostring() is deprecated. Use tobytes() instead.\n",
            "/usr/local/lib/python3.7/dist-packages/ipykernel_launcher.py:36: DeprecationWarning: tostring() is deprecated. Use tobytes() instead.\n"
          ]
        },
        {
          "output_type": "stream",
          "name": "stdout",
          "text": [
            "Writer closed.\n",
            "training_dataset.tfrecords is written to ./BlurCar1/tfrecords\n"
          ]
        }
      ]
    },
    {
      "cell_type": "markdown",
      "source": [
        "#Trainer"
      ],
      "metadata": {
        "id": "RyIYOoGVRMTy"
      }
    },
    {
      "cell_type": "code",
      "source": [
        ""
      ],
      "metadata": {
        "id": "cc5hQsJZsD6q"
      },
      "execution_count": null,
      "outputs": []
    }
  ]
}